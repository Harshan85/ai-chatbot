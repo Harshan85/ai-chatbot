{
  "nbformat": 4,
  "nbformat_minor": 0,
  "metadata": {
    "colab": {
      "provenance": []
    },
    "kernelspec": {
      "name": "python3",
      "display_name": "Python 3"
    },
    "language_info": {
      "name": "python"
    }
  },
  "cells": [
    {
      "cell_type": "code",
      "execution_count": 4,
      "metadata": {
        "colab": {
          "base_uri": "https://localhost:8080/"
        },
        "id": "6b8qNpMwAc--",
        "outputId": "1ecd4795-6d8f-4546-a0b6-a7cf3e717272"
      },
      "outputs": [
        {
          "output_type": "stream",
          "name": "stdout",
          "text": [
            "ChatBot 🤖: Hello! Type your message (type 'bye' to quit).\n",
            "You: hi\n",
            "ChatBot 🤖: Hello! How can I help you today?\n",
            "You: what is python\n",
            "ChatBot 🤖: Python is a popular programming language known for its simplicity.\n",
            "You: tell me a joke\n",
            "ChatBot 🤖: Why did the Python developer go broke? Because he couldn't 'import' salary!\n",
            "You: do you like pizza\n",
            "ChatBot 🤖: I'm a bot, but pizza sounds delicious!\n",
            "You: bye\n",
            "ChatBot 🤖: Goodbye! Have a nice day.\n"
          ]
        }
      ],
      "source": [
        "import nltk\n",
        "import numpy as np\n",
        "from sklearn.feature_extraction.text import TfidfVectorizer\n",
        "from sklearn.metrics.pairwise import cosine_similarity\n",
        "\n",
        "# Download required tokenizer\n",
        "nltk.download('punkt', quiet=True)\n",
        "\n",
        "# Extended knowledge base\n",
        "qa_pairs = {\n",
        "    \"hello\": \"Hi there! How can I assist you?\",\n",
        "    \"hi\": \"Hello! How can I help you today?\",\n",
        "    \"hey\": \"Hey! What can I do for you?\",\n",
        "    \"how are you\": \"I'm an AI bot, I don't have feelings, but I'm here to help!\",\n",
        "    \"what is your name\": \"You can call me ChatBot!\",\n",
        "    \"who are you\": \"I'm your AI-powered assistant built using Python.\",\n",
        "    \"what can you do\": \"I can chat with you and answer your basic questions.\",\n",
        "    \"what is python\": \"Python is a popular programming language known for its simplicity.\",\n",
        "    \"who created you\": \"I was created by a developer using Python and machine learning!\",\n",
        "    \"thank you\": \"You're welcome!\",\n",
        "    \"thanks\": \"No problem! Let me know if you have more questions.\",\n",
        "    \"bye\": \"Goodbye! Have a nice day.\",\n",
        "    \"tell me a joke\": \"Why did the Python developer go broke? Because he couldn't 'import' salary!\",\n",
        "    \"do you like pizza\": \"I'm a bot, but pizza sounds delicious!\",\n",
        "    \"what is machine learning\": \"Machine learning is a subset of AI where machines learn from data.\",\n",
        "\"tell me a joke\": \"Why did the Python developer go broke? Because he couldn't 'import' salary!\",\n",
        "\"do you like pizza\": \"I'm a bot, but pizza sounds delicious!\"\n",
        "\n",
        "\n",
        "}\n",
        "\n",
        "# Prepare data\n",
        "questions = list(qa_pairs.keys())\n",
        "responses = list(qa_pairs.values())\n",
        "\n",
        "# TF-IDF vectorization\n",
        "vectorizer = TfidfVectorizer()\n",
        "X = vectorizer.fit_transform(questions)\n",
        "\n",
        "# Function to get chatbot response\n",
        "def get_response(user_input):\n",
        "    user_input = user_input.lower()\n",
        "    input_vector = vectorizer.transform([user_input])\n",
        "    similarity = cosine_similarity(input_vector, X)\n",
        "    idx = np.argmax(similarity)\n",
        "\n",
        "    # Set a similarity threshold\n",
        "    if similarity[0][idx] < 0.3:\n",
        "        return \"I'm not sure how to respond to that.\"\n",
        "    return responses[idx]\n",
        "\n",
        "# Chat function\n",
        "def chat():\n",
        "    print(\"ChatBot 🤖: Hello! Type your message (type 'bye' to quit).\")\n",
        "    while True:\n",
        "        user_input = input(\"You: \").strip()\n",
        "        if user_input.lower() == \"bye\":\n",
        "            print(\"ChatBot 🤖:\", qa_pairs[\"bye\"])\n",
        "            break\n",
        "        response = get_response(user_input)\n",
        "        print(\"ChatBot 🤖:\", response)\n",
        "\n",
        "# Run the chatbot\n",
        "if __name__ == \"__main__\":\n",
        "    chat()\n"
      ]
    }
  ]
}